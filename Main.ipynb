{
 "cells": [
  {
   "cell_type": "code",
   "execution_count": null,
   "id": "f0d9b9d7",
   "metadata": {},
   "outputs": [],
   "source": [
    "import open3d as o3d\n",
    "import open3d.visualization as viz\n",
    "import numpy as np\n",
    "from util.ply_parser import parse_ply_file_point_list\n",
    "from util.point_cloud import create_point_cloud, append_to_point_cloud\n",
    "from model.point import Point\n",
    "from model.visualizer import NonBlockingVisualizer"
   ]
  },
  {
   "cell_type": "code",
   "execution_count": null,
   "id": "95a3d53c",
   "metadata": {},
   "outputs": [],
   "source": [
    "points = parse_ply_file_point_list(\"./data/straight_road.ply\")\n",
    "pc: o3d.geometry.PointCloud = create_point_cloud(points)\n",
    "\n",
    "# Print the size of the point cloud and the first point\n",
    "print(f\"num points: {pc}, first point: {pc.points[0]}\")"
   ]
  },
  {
   "cell_type": "code",
   "execution_count": null,
   "id": "e487cca0",
   "metadata": {},
   "outputs": [],
   "source": [
    "def solver(t: float) -> o3d.geometry.LineSet:\n",
    "    # Define the line segments\n",
    "    line_points = [\n",
    "        [0, 0, 0],\n",
    "        [np.sin(t), np.cos(t), 0],\n",
    "        [2 * np.sin(t/2), 2 * np.cos(t/2), np.sin(t)]\n",
    "    ]\n",
    "    line_indices = [[0, 1], [1, 2]]\n",
    "\n",
    "    # Create a line set\n",
    "    line_set = o3d.geometry.LineSet()\n",
    "    line_set.points = o3d.utility.Vector3dVector(line_points)\n",
    "    line_set.lines = o3d.utility.Vector2iVector(line_indices)\n",
    "    line_set.paint_uniform_color([1, 0, 0])  # Red color\n",
    "\n",
    "    return line_set"
   ]
  },
  {
   "cell_type": "code",
   "execution_count": null,
   "id": "abe25f57",
   "metadata": {},
   "outputs": [],
   "source": [
    "vis = NonBlockingVisualizer(pc, solver)\n",
    "vis.start()"
   ]
  },
  {
   "cell_type": "markdown",
   "id": "e889cb98",
   "metadata": {},
   "source": []
  }
 ],
 "metadata": {
  "kernelspec": {
   "display_name": "Python 3",
   "language": "python",
   "name": "python3"
  },
  "language_info": {
   "codemirror_mode": {
    "name": "ipython",
    "version": 3
   },
   "file_extension": ".py",
   "mimetype": "text/x-python",
   "name": "python",
   "nbconvert_exporter": "python",
   "pygments_lexer": "ipython3",
   "version": "3.10.11"
  }
 },
 "nbformat": 4,
 "nbformat_minor": 5
}
